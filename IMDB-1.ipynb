{
 "cells": [
  {
   "cell_type": "code",
   "execution_count": 1,
   "metadata": {},
   "outputs": [
    {
     "name": "stdout",
     "output_type": "stream",
     "text": [
      "Top 50 horror movies extracted and saved to 'top_50_horror_movies.csv'\n"
     ]
    }
   ],
   "source": [
    "import requests\n",
    "from bs4 import BeautifulSoup\n",
    "import csv\n",
    "\n",
    "# IMDb URL for horror movies\n",
    "URL = \"https://www.imdb.com/search/title/?title_type=feature&genres=horror&sort=user_rating,desc\"\n",
    "HEADERS = {\"User-Agent\": \"Mozilla/5.0\"}\n",
    "\n",
    "# Send request\n",
    "response = requests.get(URL, headers=HEADERS)\n",
    "soup = BeautifulSoup(response.text, \"html.parser\")\n",
    "\n",
    "# Extract movie titles\n",
    "movies = soup.find_all(\"h3\", class_=\"ipc-title__text\")[:50]\n",
    "\n",
    "# Store data\n",
    "horror_movies = []\n",
    "for movie in movies:\n",
    "    horror_movies.append(movie.text.strip())\n",
    "\n",
    "# Save to CSV\n",
    "with open(\"top_50_horror_movies.csv\", \"w\", newline=\"\", encoding=\"utf-8\") as file:\n",
    "    writer = csv.writer(file)\n",
    "    writer.writerow([\"Rank\", \"Movie Title\"])\n",
    "    for idx, title in enumerate(horror_movies, 1):\n",
    "        writer.writerow([idx, title])\n",
    "\n",
    "print(\"Top 50 horror movies extracted and saved to 'top_50_horror_movies.csv'\")"
   ]
  }
 ],
 "metadata": {
  "kernelspec": {
   "display_name": "Python 3",
   "language": "python",
   "name": "python3"
  },
  "language_info": {
   "codemirror_mode": {
    "name": "ipython",
    "version": 3
   },
   "file_extension": ".py",
   "mimetype": "text/x-python",
   "name": "python",
   "nbconvert_exporter": "python",
   "pygments_lexer": "ipython3",
   "version": "3.12.2"
  }
 },
 "nbformat": 4,
 "nbformat_minor": 2
}
