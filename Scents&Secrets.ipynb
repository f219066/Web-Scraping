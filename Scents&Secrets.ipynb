{
 "cells": [
  {
   "cell_type": "code",
   "execution_count": 2,
   "metadata": {},
   "outputs": [
    {
     "name": "stdout",
     "output_type": "stream",
     "text": [
      "Data has been exported to perfumes_for_men.csv\n"
     ]
    }
   ],
   "source": [
    "import requests\n",
    "from bs4 import BeautifulSoup\n",
    "import pandas as pd\n",
    "\n",
    "\n",
    "url = 'https://scentsnsecrets.com/collections/perfumes-for-men'\n",
    "headers = {\n",
    "    'User-Agent': 'Mozilla/5.0 (Windows NT 10.0; Win64; x64) AppleWebKit/537.36 (KHTML, like Gecko) Chrome/58.0.3029.110 Safari/537.3'}\n",
    "response = requests.get(url, headers=headers)\n",
    "\n",
    "soup = BeautifulSoup(response.content, 'html.parser')\n",
    "\n",
    "products = soup.find_all('div', class_='grid-product__content')\n",
    "\n",
    "\n",
    "product_list = []\n",
    "for product in products:\n",
    "    product_name = product.find('div', class_='grid-product__title').text.strip()\n",
    "    product_vendor = product.find('div', class_='grid-product__vendor').text.strip()\n",
    "    product_price = product.find('div', class_='grid-product__price').text.strip()\n",
    "    product_url = 'https://scentsnsecrets.com' + product.find('a', class_='grid-product__link')['href']\n",
    "    product_list.append({\n",
    "        'Name': product_name,\n",
    "        'Vendor': product_vendor,\n",
    "        'Price': product_price,\n",
    "        'URL': product_url\n",
    "    })\n",
    "\n",
    "df = pd.DataFrame(product_list)\n",
    "df.to_csv('perfumes_for_men.csv', index=False)\n",
    "print('Data has been exported to perfumes_for_men.csv')\n"
   ]
  }
 ],
 "metadata": {
  "kernelspec": {
   "display_name": "Python 3",
   "language": "python",
   "name": "python3"
  },
  "language_info": {
   "codemirror_mode": {
    "name": "ipython",
    "version": 3
   },
   "file_extension": ".py",
   "mimetype": "text/x-python",
   "name": "python",
   "nbconvert_exporter": "python",
   "pygments_lexer": "ipython3",
   "version": "3.12.2"
  }
 },
 "nbformat": 4,
 "nbformat_minor": 2
}
