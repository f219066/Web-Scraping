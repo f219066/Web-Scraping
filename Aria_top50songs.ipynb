{
 "cells": [
  {
   "cell_type": "code",
   "execution_count": 3,
   "metadata": {},
   "outputs": [
    {
     "name": "stdout",
     "output_type": "stream",
     "text": [
      "Data saved to aria_top_50.csv\n"
     ]
    }
   ],
   "source": [
    "import requests\n",
    "from bs4 import BeautifulSoup\n",
    "import csv\n",
    "\n",
    "def scrape_aria_chart(url):\n",
    "    response = requests.get(url)\n",
    "    if response.status_code != 200:\n",
    "        print(\"Failed to retrieve data\")\n",
    "        return\n",
    "    \n",
    "    soup = BeautifulSoup(response.text, 'html.parser')\n",
    "    chart_items = soup.find_all('div', class_='c-chart-item__details')\n",
    "    \n",
    "    data = []\n",
    "    for rank, item in enumerate(chart_items, start=1):\n",
    "        title_tag = item.find('a', class_='c-chart-item__title')\n",
    "        artist_tag = item.find('a', class_='c-chart-item__artist')\n",
    "        \n",
    "        title = title_tag.text.strip() if title_tag else 'Unknown'\n",
    "        artist = artist_tag.text.strip() if artist_tag else 'Unknown'\n",
    "        \n",
    "        data.append([rank, title, artist])\n",
    "    \n",
    "    # Save data to CSV\n",
    "    with open('aria_top_50.csv', 'w', newline='', encoding='utf-8') as file:\n",
    "        writer = csv.writer(file)\n",
    "        writer.writerow([\"Rank\", \"Title\", \"Artist\"])\n",
    "        writer.writerows(data)\n",
    "    \n",
    "    print(\"Data saved to aria_top_50.csv\")\n",
    "\n",
    "if __name__ == \"__main__\":\n",
    "    url = \"https://www.aria.com.au/charts/singles-chart/2025-02-17\"\n",
    "    scrape_aria_chart(url)"
   ]
  }
 ],
 "metadata": {
  "kernelspec": {
   "display_name": "Python 3",
   "language": "python",
   "name": "python3"
  },
  "language_info": {
   "codemirror_mode": {
    "name": "ipython",
    "version": 3
   },
   "file_extension": ".py",
   "mimetype": "text/x-python",
   "name": "python",
   "nbconvert_exporter": "python",
   "pygments_lexer": "ipython3",
   "version": "3.12.2"
  }
 },
 "nbformat": 4,
 "nbformat_minor": 2
}
